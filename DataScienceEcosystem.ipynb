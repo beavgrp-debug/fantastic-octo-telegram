{
 "cells": [
  {
   "cell_type": "markdown",
   "id": "30b0f7a6-165d-4576-a2e9-2be9f558edbc",
   "metadata": {},
   "source": [
    "# Data Science Tools and Ecosystem"
   ]
  },
  {
   "cell_type": "markdown",
   "id": "f352168a-0f84-49d7-bc5c-b1d417fafc9e",
   "metadata": {},
   "source": [
    "## Author Michael Grappe"
   ]
  },
  {
   "cell_type": "markdown",
   "id": "28fa42df-9df6-4740-b38d-8b001acf3d1c",
   "metadata": {},
   "source": [
    "In this notebook, Data Science Tools and Ecosystem are summarized.\n",
    "\n"
   ]
  },
  {
   "cell_type": "markdown",
   "id": "37d7b214-4389-4f86-95eb-62cf7ff7facf",
   "metadata": {},
   "source": [
    "Objectives:\n",
    "- list popular languages for Data Science\n",
    "- list commonly used libraries for Data Science\n",
    "- Create a table Data Science tools\n",
    "- evaluate arithmetic in Python\n"
   ]
  },
  {
   "cell_type": "markdown",
   "id": "feb9e850-3de6-4e18-a41b-6cf2485a8840",
   "metadata": {},
   "source": [
    "Some of the popular languages that Data Scientists use are:\n",
    "1. Python\n",
    "2. R\n",
    "3. C++"
   ]
  },
  {
   "cell_type": "markdown",
   "id": "c5d71d85-7c63-41e4-8a95-a2b079f8e750",
   "metadata": {},
   "source": [
    "Some of the commonly used libraries used by Data Scientists include:\n",
    "\n",
    "1. Pandas\n",
    "2. NumPy\n",
    "3. Matplotlib\n"
   ]
  },
  {
   "cell_type": "markdown",
   "id": "a3d4953e-3de6-462a-a41f-87255292f1cc",
   "metadata": {},
   "source": [
    "| Data Science Tools |\n",
    "| --- |\n",
    "| Python |\n",
    "| R |\n",
    "|Jupyter Notebook|"
   ]
  },
  {
   "cell_type": "markdown",
   "id": "d8bbef73-35ad-43be-8837-a2f318e67ed0",
   "metadata": {},
   "source": [
    "### Below are a few examples of evaluating arithmetic expressions in Python.\n",
    "\n"
   ]
  },
  {
   "cell_type": "code",
   "execution_count": 9,
   "id": "02351de2-b0b6-474b-ae3c-32d4ce9c6307",
   "metadata": {},
   "outputs": [
    {
     "data": {
      "text/plain": [
       "17"
      ]
     },
     "execution_count": 9,
     "metadata": {},
     "output_type": "execute_result"
    }
   ],
   "source": [
    "# This a simple arithmetic expression to mutiply then add integers\n",
    "(3*4)+5"
   ]
  },
  {
   "cell_type": "code",
   "execution_count": 11,
   "id": "9bafbfb5-8b2d-4b85-85b1-264785cabfa2",
   "metadata": {},
   "outputs": [
    {
     "data": {
      "text/plain": [
       "3.3333333333333335"
      ]
     },
     "execution_count": 11,
     "metadata": {},
     "output_type": "execute_result"
    }
   ],
   "source": [
    "# This will convert 200 minutes to hours by diving by 60\n",
    "200/60"
   ]
  },
  {
   "cell_type": "code",
   "execution_count": null,
   "id": "2020ab1a-800b-43d3-99aa-ad22b797999a",
   "metadata": {},
   "outputs": [],
   "source": []
  }
 ],
 "metadata": {
  "kernelspec": {
   "display_name": "Python 3 (ipykernel)",
   "language": "python",
   "name": "python3"
  },
  "language_info": {
   "codemirror_mode": {
    "name": "ipython",
    "version": 3
   },
   "file_extension": ".py",
   "mimetype": "text/x-python",
   "name": "python",
   "nbconvert_exporter": "python",
   "pygments_lexer": "ipython3",
   "version": "3.13.5"
  }
 },
 "nbformat": 4,
 "nbformat_minor": 5
}
